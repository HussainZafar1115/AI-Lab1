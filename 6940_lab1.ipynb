{
  "nbformat": 4,
  "nbformat_minor": 0,
  "metadata": {
    "colab": {
      "provenance": []
    },
    "kernelspec": {
      "name": "python3",
      "display_name": "Python 3"
    },
    "language_info": {
      "name": "python"
    }
  },
  "cells": [
    {
      "cell_type": "code",
      "execution_count": null,
      "metadata": {
        "colab": {
          "base_uri": "https://localhost:8080/"
        },
        "id": "yrqHSb1U1UJw",
        "outputId": "1dc353ba-0a81-4b88-d758-402e4e750bdd"
      },
      "outputs": [
        {
          "output_type": "stream",
          "name": "stdout",
          "text": [
            "Enter username\n",
            "huss\n",
            "Enter age\n",
            "21\n",
            "Welcome huss. Your age is 21 \n"
          ]
        }
      ],
      "source": [
        "def ques1():\n",
        "  usern=input(\"Enter username\\n\")\n",
        "  age=input(\"Enter age\\n\")\n",
        "  print(f\"Welcome {usern}. Your age is {age} \")\n",
        "\n",
        "ques1()"
      ]
    },
    {
      "cell_type": "code",
      "source": [
        "from ast import literal_eval\n",
        "def ques2():\n",
        "  inputt=input(\"Enter data\")\n",
        "  try:\n",
        "        return type(literal_eval(inputt))\n",
        "  except (ValueError, SyntaxError):\n",
        "\n",
        "       return str\n",
        "\n",
        "\n",
        "ques2()\n"
      ],
      "metadata": {
        "colab": {
          "base_uri": "https://localhost:8080/"
        },
        "id": "TaetVf7P2lFx",
        "outputId": "64711ced-66c6-4037-dcaf-dfd2b09bca40"
      },
      "execution_count": null,
      "outputs": [
        {
          "name": "stdout",
          "output_type": "stream",
          "text": [
            "Enter data2\n"
          ]
        },
        {
          "output_type": "execute_result",
          "data": {
            "text/plain": [
              "int"
            ]
          },
          "metadata": {},
          "execution_count": 10
        }
      ]
    },
    {
      "cell_type": "code",
      "source": [
        "def ques3():\n",
        "  list=[\"a\",\"b\",\"c\"]\n",
        "  print(list)\n",
        "  list.append(\"d\")\n",
        "  print(list)\n",
        "  list.remove(\"a\")\n",
        "  print(list)\n",
        "  print([x.upper() for x in list])\n",
        "\n",
        "ques3()"
      ],
      "metadata": {
        "colab": {
          "base_uri": "https://localhost:8080/"
        },
        "id": "-OE0WPPs5zGN",
        "outputId": "6c214b4a-7402-4506-eb03-243c59667f78"
      },
      "execution_count": null,
      "outputs": [
        {
          "output_type": "stream",
          "name": "stdout",
          "text": [
            "['a', 'b', 'c']\n",
            "['a', 'b', 'c', 'd']\n",
            "['b', 'c', 'd']\n",
            "['B', 'C', 'D']\n"
          ]
        }
      ]
    },
    {
      "cell_type": "code",
      "source": [
        "def ques4():\n",
        "  tup=(1,2)\n",
        "  print(tup)\n",
        "  var1=tup[0]\n",
        "  print(var1)\n",
        "  var2=tup[1]\n",
        "  print(var2)\n",
        "ques4()"
      ],
      "metadata": {
        "colab": {
          "base_uri": "https://localhost:8080/"
        },
        "id": "pLdpsNyf8TmE",
        "outputId": "a16d7229-bebd-4c96-d421-e66871d57e17"
      },
      "execution_count": null,
      "outputs": [
        {
          "output_type": "stream",
          "name": "stdout",
          "text": [
            "(1, 2)\n",
            "1\n",
            "2\n"
          ]
        }
      ]
    },
    {
      "cell_type": "code",
      "source": [
        "def ques5():\n",
        "  dict ={\n",
        "      \"Hussain\": \"A+\",\n",
        "      \"Augustus\" : \"D\",\n",
        "      \"Ceasar\" : \"c\",\n",
        "      \"Aurelius\" : \"B+\",\n",
        "      \"Khalid\" : \"A\"\n",
        "\n",
        "\n",
        "\n",
        "  }\n",
        "  print(dict)\n",
        "\n",
        "ques5()"
      ],
      "metadata": {
        "colab": {
          "base_uri": "https://localhost:8080/"
        },
        "id": "CehigziT9iJI",
        "outputId": "26b30a2f-bf11-4fcd-b041-d62e6a7c3b7e"
      },
      "execution_count": null,
      "outputs": [
        {
          "output_type": "stream",
          "name": "stdout",
          "text": [
            "{'Hussain': 'A+', 'Augustus': 'D', 'Ceasar': 'c', 'Aurelius': 'B+', 'Khalid': 'A'}\n"
          ]
        }
      ]
    },
    {
      "cell_type": "code",
      "source": [
        "def ques6():\n",
        "  list1=[1,2,3,4]\n",
        "  print(list1)\n",
        "  list2=[4,5,6,7]\n",
        "  print(list2)\n",
        "  set1=set(list1)\n",
        "  set2=set(list2)\n",
        "  print('UNION' ,set1.union(set2))\n",
        "  print('iNTERSECTION' ,set1.intersection(set2))\n",
        "  print('DIFFERENCE' ,set1.difference(set2))\n",
        "\n",
        "ques6()"
      ],
      "metadata": {
        "colab": {
          "base_uri": "https://localhost:8080/"
        },
        "id": "CqxoNDtW-XVP",
        "outputId": "e42e03da-8206-4041-e91a-9bb2cab2649a"
      },
      "execution_count": null,
      "outputs": [
        {
          "output_type": "stream",
          "name": "stdout",
          "text": [
            "[1, 2, 3, 4]\n",
            "[4, 5, 6, 7]\n",
            "UNION {1, 2, 3, 4, 5, 6, 7}\n",
            "iNTERSECTION {4}\n",
            "DIFFERENCE {1, 2, 3}\n"
          ]
        }
      ]
    },
    {
      "cell_type": "code",
      "source": [
        "def ques7():\n",
        "  value=input(\"Enter A value\")\n",
        "  value=int(value)\n",
        "  if value<0:\n",
        "    print(\"Value is negative\")\n",
        "  elif value>0:\n",
        "    print(\"Value is positive\")\n",
        "  else:\n",
        "    print(\"Value is 0\")\n",
        "\n",
        "  if value %2==0:\n",
        "    print(\"Value is even\")\n",
        "  else:\n",
        "    print(\"Value is odd\")\n",
        "\n",
        "ques7()"
      ],
      "metadata": {
        "colab": {
          "base_uri": "https://localhost:8080/"
        },
        "id": "7LXf28uu_1ps",
        "outputId": "2add5c2c-6a83-40f2-f2ba-2d5fd42bee9e"
      },
      "execution_count": null,
      "outputs": [
        {
          "output_type": "stream",
          "name": "stdout",
          "text": [
            "Enter A value-221\n",
            "Value is negative\n",
            "Value is odd\n"
          ]
        }
      ]
    },
    {
      "cell_type": "code",
      "source": [
        "def ques8():\n",
        "  for i in range(0,51):\n",
        "\n",
        "    if(i%3==0 and i%5==0):\n",
        "      print(i,\" FiZZBUZZ\")\n",
        "\n",
        "    elif(i%3==0):\n",
        "      print(i,\" FIZZ\")\n",
        "\n",
        "    elif(i%5==0):\n",
        "      print(i,\" BUZZ\")\n",
        "\n",
        "\n",
        "\n",
        "\n",
        "ques8()"
      ],
      "metadata": {
        "colab": {
          "base_uri": "https://localhost:8080/"
        },
        "id": "r_oPS0ZiBe_3",
        "outputId": "4248f9f8-1196-4696-a1bf-0707d1d87b0b"
      },
      "execution_count": 1,
      "outputs": [
        {
          "output_type": "stream",
          "name": "stdout",
          "text": [
            "0  FiZZBUZZ\n",
            "3  FIZZ\n",
            "5  BUZZ\n",
            "6  FIZZ\n",
            "9  FIZZ\n",
            "10  BUZZ\n",
            "12  FIZZ\n",
            "15  FiZZBUZZ\n",
            "18  FIZZ\n",
            "20  BUZZ\n",
            "21  FIZZ\n",
            "24  FIZZ\n",
            "25  BUZZ\n",
            "27  FIZZ\n",
            "30  FiZZBUZZ\n",
            "33  FIZZ\n",
            "35  BUZZ\n",
            "36  FIZZ\n",
            "39  FIZZ\n",
            "40  BUZZ\n",
            "42  FIZZ\n",
            "45  FiZZBUZZ\n",
            "48  FIZZ\n",
            "50  BUZZ\n"
          ]
        }
      ]
    },
    {
      "cell_type": "code",
      "source": [
        "def ques9():\n",
        "  n = input(\"Enter number\")\n",
        "  n=int(n)\n",
        "  fact = 1\n",
        "\n",
        "  for i in range(1, n+1):\n",
        "      fact = fact * i\n",
        "\n",
        "  print(\"The factorial is : \", fact)\n",
        "ques9()"
      ],
      "metadata": {
        "colab": {
          "base_uri": "https://localhost:8080/"
        },
        "id": "UU_TQ4DMEAcS",
        "outputId": "ba01a6aa-55a9-46c2-bdcf-1e53bf2ee3ec"
      },
      "execution_count": null,
      "outputs": [
        {
          "output_type": "stream",
          "name": "stdout",
          "text": [
            "Enter number6\n",
            "The factorial is :  720\n"
          ]
        }
      ]
    },
    {
      "cell_type": "code",
      "source": [
        "def ques10():\n",
        "\n",
        "  num=input(\"Enter a number\")\n",
        "  num=int(num)\n",
        "  if (num>1):\n",
        "    for i in range (2,(num//2)+1):\n",
        "      if (num%i==0):\n",
        "        print(\"Not a prime number\")\n",
        "        break\n",
        "\n",
        "    else:\n",
        "      print(\"It is a prime number\")\n",
        "  else:\n",
        "    print(\"Not a prime\")\n",
        "\n",
        "ques10()"
      ],
      "metadata": {
        "colab": {
          "base_uri": "https://localhost:8080/"
        },
        "id": "DVOi2muPE0d9",
        "outputId": "79dca946-00db-4904-fe75-2840f0a5ee46"
      },
      "execution_count": null,
      "outputs": [
        {
          "output_type": "stream",
          "name": "stdout",
          "text": [
            "Enter a number7\n",
            "It is a prime number\n"
          ]
        }
      ]
    },
    {
      "cell_type": "code",
      "source": [
        "def ques11(list):\n",
        "  list1=list\n",
        "  for i in range(0,len(list)):\n",
        "    list1[i]=list[i]*list[i]\n",
        "\n",
        "  return list1\n",
        "\n",
        "list=[1,2,3,4,5]\n",
        "print(list)\n",
        "list2=ques11(list)\n",
        "print(list2)"
      ],
      "metadata": {
        "colab": {
          "base_uri": "https://localhost:8080/"
        },
        "id": "N5wL3cd7Hp3s",
        "outputId": "c7e5c35e-db4a-44e1-e3e3-03faa0547b7a"
      },
      "execution_count": null,
      "outputs": [
        {
          "output_type": "stream",
          "name": "stdout",
          "text": [
            "[1, 2, 3, 4, 5]\n",
            "[1, 4, 9, 16, 25]\n"
          ]
        }
      ]
    },
    {
      "cell_type": "code",
      "source": [
        "def ques12():\n",
        "  dict1={\n",
        "      \"a\" : 1,\n",
        "      \"b\" : 2,\n",
        "      \"c\" : 3,\n",
        "\n",
        "\n",
        "\n",
        "  }\n",
        "  dict2={\n",
        "      \"c\" : 1,\n",
        "      \"e\" : 5,\n",
        "      \"f\" : 6,\n",
        "\n",
        "\n",
        "\n",
        "  }\n",
        "\n",
        "  merge=dict1.copy()\n",
        "  merge.update(dict2)\n",
        "\n",
        "  print(merge)\n",
        "\n",
        "ques12()"
      ],
      "metadata": {
        "colab": {
          "base_uri": "https://localhost:8080/"
        },
        "id": "4MhYC4mfIwiz",
        "outputId": "bf4f365e-ff7e-403a-fa18-a575c73c1d81"
      },
      "execution_count": null,
      "outputs": [
        {
          "output_type": "stream",
          "name": "stdout",
          "text": [
            "{'a': 1, 'b': 2, 'c': 1, 'e': 5, 'f': 6}\n"
          ]
        }
      ]
    },
    {
      "cell_type": "code",
      "source": [],
      "metadata": {
        "id": "7mVAvIzSMimo"
      },
      "execution_count": null,
      "outputs": []
    },
    {
      "cell_type": "code",
      "source": [
        "def ques18():\n",
        "    dict1 = {\n",
        "        \"Hussain\": \"DRAMA\",\n",
        "        \"AHMED\": \"DRAMAFAN\",\n",
        "        \"AADIL\": \"SAD\"\n",
        "    }\n",
        "\n",
        "    username = input(\"Enter username: \")\n",
        "\n",
        "    if username not in dict1:\n",
        "        print(\"Username not found. Please register.\")\n",
        "        password = input(\"Enter a new password: \")\n",
        "        dict1[username] = password\n",
        "        print(\"Registration successful. You can now log in.\")\n",
        "    else:\n",
        "        password = input(\"Enter password: \")\n",
        "        if dict1[username] == password:\n",
        "            print(\"Logged in successfully.\")\n",
        "        else:\n",
        "            print(\"Wrong password.\")\n",
        "\n",
        "ques18()"
      ],
      "metadata": {
        "colab": {
          "base_uri": "https://localhost:8080/"
        },
        "id": "_rabl_wYMj80",
        "outputId": "815a7786-3bf2-4a75-ef83-9da88ccc8cb7"
      },
      "execution_count": 11,
      "outputs": [
        {
          "output_type": "stream",
          "name": "stdout",
          "text": [
            "Enter username: Hussain\n",
            "Enter password: DRAMA\n",
            "Logged in successfully.\n"
          ]
        }
      ]
    },
    {
      "cell_type": "code",
      "source": [
        "def countwords(words):\n",
        "    frequency = {}\n",
        "    for word in words:\n",
        "        if word in frequency:\n",
        "            frequency[word] += 1\n",
        "        else:\n",
        "            frequency[word] = 1\n",
        "    return frequency\n",
        "list = [\"apple\", \"banana\", \"apple\", \"orange\", \"banana\"]\n",
        "count = countwords(list)\n",
        "print(count)\n"
      ],
      "metadata": {
        "colab": {
          "base_uri": "https://localhost:8080/"
        },
        "id": "4Kk9a8OWo_0d",
        "outputId": "6a5c1796-0c90-4e9c-e646-aa4f64de8bc1"
      },
      "execution_count": 12,
      "outputs": [
        {
          "output_type": "stream",
          "name": "stdout",
          "text": [
            "{'apple': 2, 'banana': 2, 'orange': 1}\n"
          ]
        }
      ]
    },
    {
      "cell_type": "code",
      "source": [
        "\n"
      ],
      "metadata": {
        "id": "8PM3AMnWPQ8O"
      },
      "execution_count": null,
      "outputs": []
    },
    {
      "cell_type": "code",
      "source": [
        "def removedup(list):\n",
        "    newlist = []\n",
        "    for item in list:\n",
        "        if item not in newlist:\n",
        "            newlist.append(item)\n",
        "    return newlist\n",
        "\n",
        "list = [1, 2, 2, 3, 4, 4, 5]\n",
        "newlist = removedup(list)\n",
        "print(newlist)\n"
      ],
      "metadata": {
        "colab": {
          "base_uri": "https://localhost:8080/"
        },
        "id": "lhZc5IrZP-z5",
        "outputId": "83440768-e40e-4572-de66-6e93c1a42d58"
      },
      "execution_count": 4,
      "outputs": [
        {
          "output_type": "stream",
          "name": "stdout",
          "text": [
            "[1, 2, 3, 4, 5]\n"
          ]
        }
      ]
    },
    {
      "cell_type": "code",
      "source": [
        "def ques16(list):\n",
        "  sum=0\n",
        "  for i in range(0,len(list)):\n",
        "    sum = sum + list[i]\n",
        "  average=sum/len(list)\n",
        "  print(average)\n",
        "\n",
        "vals=[1,2,3,4,5]\n",
        "ques16(vals)"
      ],
      "metadata": {
        "colab": {
          "base_uri": "https://localhost:8080/"
        },
        "id": "3qU2PKLUMkRt",
        "outputId": "6acadf1a-be39-44be-9a43-294fa7eef788"
      },
      "execution_count": null,
      "outputs": [
        {
          "output_type": "stream",
          "name": "stdout",
          "text": [
            "3.0\n"
          ]
        }
      ]
    },
    {
      "cell_type": "code",
      "source": [
        "def ques15():\n",
        "  terms = int(input(\"How many terms? \"))\n",
        "  n1, n2 = 0, 1\n",
        "  count = 0\n",
        "\n",
        "  if terms == 1:\n",
        "\n",
        "    print(n1)\n",
        "\n",
        "  else:\n",
        "     print(\"Fibonacci sequence:\")\n",
        "     while count < terms:\n",
        "         print(n1)\n",
        "         nth = n1 + n2\n",
        "         n1 = n2\n",
        "         n2 = nth\n",
        "         count += 1\n",
        "\n",
        "ques15()"
      ],
      "metadata": {
        "colab": {
          "base_uri": "https://localhost:8080/"
        },
        "id": "Kvb7xakfJ0x8",
        "outputId": "4da348eb-418b-4d36-d8a8-d0cb3f68ee81"
      },
      "execution_count": null,
      "outputs": [
        {
          "output_type": "stream",
          "name": "stdout",
          "text": [
            "How many terms? 7\n",
            "Fibonacci sequence:\n",
            "0\n",
            "1\n",
            "1\n",
            "2\n",
            "3\n",
            "5\n",
            "8\n"
          ]
        }
      ]
    },
    {
      "cell_type": "code",
      "source": [
        "def ques17():\n",
        "  for i in range(0,11):\n",
        "    print(f\" Table for \",i)\n",
        "    for j in range(0,11):\n",
        "      print(i*j)\n",
        "\n",
        "ques17()"
      ],
      "metadata": {
        "colab": {
          "base_uri": "https://localhost:8080/"
        },
        "id": "YdvKINcZF1Qh",
        "outputId": "20e50843-0ee6-47dd-bfd6-6899f09e6e50"
      },
      "execution_count": 5,
      "outputs": [
        {
          "output_type": "stream",
          "name": "stdout",
          "text": [
            " Table for  0\n",
            "0\n",
            "0\n",
            "0\n",
            "0\n",
            "0\n",
            "0\n",
            "0\n",
            "0\n",
            "0\n",
            "0\n",
            "0\n",
            " Table for  1\n",
            "0\n",
            "1\n",
            "2\n",
            "3\n",
            "4\n",
            "5\n",
            "6\n",
            "7\n",
            "8\n",
            "9\n",
            "10\n",
            " Table for  2\n",
            "0\n",
            "2\n",
            "4\n",
            "6\n",
            "8\n",
            "10\n",
            "12\n",
            "14\n",
            "16\n",
            "18\n",
            "20\n",
            " Table for  3\n",
            "0\n",
            "3\n",
            "6\n",
            "9\n",
            "12\n",
            "15\n",
            "18\n",
            "21\n",
            "24\n",
            "27\n",
            "30\n",
            " Table for  4\n",
            "0\n",
            "4\n",
            "8\n",
            "12\n",
            "16\n",
            "20\n",
            "24\n",
            "28\n",
            "32\n",
            "36\n",
            "40\n",
            " Table for  5\n",
            "0\n",
            "5\n",
            "10\n",
            "15\n",
            "20\n",
            "25\n",
            "30\n",
            "35\n",
            "40\n",
            "45\n",
            "50\n",
            " Table for  6\n",
            "0\n",
            "6\n",
            "12\n",
            "18\n",
            "24\n",
            "30\n",
            "36\n",
            "42\n",
            "48\n",
            "54\n",
            "60\n",
            " Table for  7\n",
            "0\n",
            "7\n",
            "14\n",
            "21\n",
            "28\n",
            "35\n",
            "42\n",
            "49\n",
            "56\n",
            "63\n",
            "70\n",
            " Table for  8\n",
            "0\n",
            "8\n",
            "16\n",
            "24\n",
            "32\n",
            "40\n",
            "48\n",
            "56\n",
            "64\n",
            "72\n",
            "80\n",
            " Table for  9\n",
            "0\n",
            "9\n",
            "18\n",
            "27\n",
            "36\n",
            "45\n",
            "54\n",
            "63\n",
            "72\n",
            "81\n",
            "90\n",
            " Table for  10\n",
            "0\n",
            "10\n",
            "20\n",
            "30\n",
            "40\n",
            "50\n",
            "60\n",
            "70\n",
            "80\n",
            "90\n",
            "100\n"
          ]
        }
      ]
    },
    {
      "cell_type": "code",
      "source": [
        "def checkpalindrome(t):\n",
        "    palindrome = lambda t: t == t[::-1]\n",
        "    return palindrome(t)\n",
        "Checkpal=input(\"enter word \")\n",
        "checkpalindrome(Checkpal)"
      ],
      "metadata": {
        "colab": {
          "base_uri": "https://localhost:8080/"
        },
        "id": "8Rc9_4aYmqXR",
        "outputId": "1b43bedb-16a2-4789-cfd4-960104cf35f4"
      },
      "execution_count": 10,
      "outputs": [
        {
          "name": "stdout",
          "output_type": "stream",
          "text": [
            "enter word burbrub\n"
          ]
        },
        {
          "output_type": "execute_result",
          "data": {
            "text/plain": [
              "True"
            ]
          },
          "metadata": {},
          "execution_count": 10
        }
      ]
    },
    {
      "cell_type": "code",
      "source": [
        "def converttemp():\n",
        "    choice = input(\"Convert from celsius to fahrenheit (C) or fahrenheit to celsius (F) \")\n",
        "    if choice == \"C\":\n",
        "        celsius = float(input(\"Enter temperature in celsius: \"))\n",
        "        fahrenheit = (celsius * 9/5) + 32\n",
        "        print(f\"Temperature in fahrenheit: {fahrenheit}\")\n",
        "    elif choice == \"F\":\n",
        "        fahrenheit = float(input(\"enter temperature in fahrenheit: \"))\n",
        "        celsius = (fahrenheit - 32) * 5/9\n",
        "        print(f\"Temperature in Celsius: {celsius}\")\n",
        "\n",
        "converttemp()"
      ],
      "metadata": {
        "colab": {
          "base_uri": "https://localhost:8080/"
        },
        "id": "5_yboaWHjp0v",
        "outputId": "269399cb-da8f-4404-eec6-f48b80dfb444"
      },
      "execution_count": 7,
      "outputs": [
        {
          "output_type": "stream",
          "name": "stdout",
          "text": [
            "Convert from Celsius to Fahrenheit (C) or Fahrenheit to Celsius (F)? F\n",
            "Enter temperature in Fahrenheit: 122\n",
            "Temperature in Celsius: 50.0\n"
          ]
        }
      ]
    }
  ]
}